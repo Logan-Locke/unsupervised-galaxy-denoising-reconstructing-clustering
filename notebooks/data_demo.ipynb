{
 "cells": [
  {
   "metadata": {},
   "cell_type": "markdown",
   "source": [
    "# A Demo of this Project’s DataLoaders\n",
    "\n",
    "This project loads images from a collection of galaxy images from the GZ: CANDELS project."
   ],
   "id": "ef520b85ba4187a4"
  },
  {
   "cell_type": "code",
   "id": "initial_id",
   "metadata": {
    "collapsed": true
   },
   "source": [
    "import random\n",
    "from matplotlib import pyplot as plt\n",
    "import torch\n",
    "import torchvision\n",
    "from torchvision.transforms import ToTensor\n",
    "\n",
    "from dataset.dataset import get_data_loaders"
   ],
   "outputs": [],
   "execution_count": null
  },
  {
   "metadata": {},
   "cell_type": "code",
   "source": [
    "train_dataset, _, _ = get_data_loaders()\n",
    "\n",
    "# Get a batch of training data\n",
    "images, _ = next(iter(train_dataset))\n",
    "\n",
    "# Print the shape of the images\n",
    "print(images.shape)"
   ],
   "id": "60c26f375451c70a",
   "outputs": [],
   "execution_count": null
  },
  {
   "metadata": {},
   "cell_type": "markdown",
   "source": "# Plot the first batch of images",
   "id": "196aa991fc49d87a"
  },
  {
   "metadata": {},
   "cell_type": "code",
   "source": [
    "def tensor_to_np(tensor_img):\n",
    "    # Check if the input is a PyTorch tensor\n",
    "    if not isinstance(tensor_img, torch.Tensor):\n",
    "        # Convert PIL Image to PyTorch tensor\n",
    "        tensor_img = ToTensor()(tensor_img)\n",
    "\n",
    "    # Move tensor to CPU (if not already) and convert to NumPy\n",
    "    np_img = tensor_img.cpu().permute(1, 2, 0).numpy()\n",
    "    # Clip values between 0 and 1 for display\n",
    "    return np.clip(np_img, 0, 1)\n",
    "\n",
    "\n",
    "# Select 16 random indices from the first 100 images\n",
    "num_images = 16\n",
    "random_indices = random.sample(range(10000), num_images)\n",
    "\n",
    "# Create a 4x4 grid\n",
    "fig, axes = plt.subplots(4, 4, figsize=(8, 8))\n",
    "\n",
    "for i, idx in enumerate(random_indices):\n",
    "    # Load the raw image from the dataset\n",
    "    raw_image, _ = train_dataset[idx]  # Assuming images are in train_dataset\n",
    "\n",
    "    # Convert tensor to NumPy format\n",
    "    np_image = tensor_to_np(raw_image)\n",
    "\n",
    "    # Get row and column indices\n",
    "    row, col = divmod(i, 4)\n",
    "\n",
    "    # Display image\n",
    "    axes[row, col].imshow(np_image)\n",
    "    axes[row, col].axis(\"off\")\n",
    "\n",
    "plt.tight_layout()\n",
    "plt.show()"
   ],
   "id": "82e350cd9122762b",
   "outputs": [],
   "execution_count": null
  }
 ],
 "metadata": {
  "kernelspec": {
   "display_name": "Python 3",
   "language": "python",
   "name": "python3"
  },
  "language_info": {
   "codemirror_mode": {
    "name": "ipython",
    "version": 2
   },
   "file_extension": ".py",
   "mimetype": "text/x-python",
   "name": "python",
   "nbconvert_exporter": "python",
   "pygments_lexer": "ipython2",
   "version": "2.7.6"
  }
 },
 "nbformat": 4,
 "nbformat_minor": 5
}
